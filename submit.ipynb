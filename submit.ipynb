{
 "cells": [
  {
   "cell_type": "code",
   "execution_count": null,
   "id": "adverse-shaft",
   "metadata": {},
   "outputs": [],
   "source": [
    "%reload_ext autoreload\n",
    "%autoreload 2\n",
    "%matplotlib inline"
   ]
  },
  {
   "cell_type": "code",
   "execution_count": null,
   "id": "earned-glasgow",
   "metadata": {},
   "outputs": [],
   "source": [
    "#hide\n",
    "from RS.core import *\n",
    "from RS.model import *"
   ]
  },
  {
   "cell_type": "code",
   "execution_count": null,
   "id": "filled-philippines",
   "metadata": {},
   "outputs": [],
   "source": [
    "from fastai.vision.all import *"
   ]
  },
  {
   "cell_type": "code",
   "execution_count": null,
   "id": "lasting-mathematics",
   "metadata": {},
   "outputs": [],
   "source": [
    "df=pd.read_csv('./train.csv')"
   ]
  },
  {
   "cell_type": "code",
   "execution_count": null,
   "id": "forward-tracy",
   "metadata": {},
   "outputs": [],
   "source": [
    "db = DataBlock(blocks=(TransformBlock(type_tfms=partial(RsImage.create)),\n",
    "                       TransformBlock(type_tfms=partial(RsMask.create)),\n",
    "                      ),\n",
    "               get_x=ColReader('path'),\n",
    "               get_y=ColReader('path'),\n",
    "               splitter=ColSplitter('valid'),\n",
    "               item_tfms=[aug,aug2]\n",
    "              )\n",
    "\n",
    "# db.summary(source=df)"
   ]
  },
  {
   "cell_type": "code",
   "execution_count": null,
   "id": "turkish-dodge",
   "metadata": {},
   "outputs": [],
   "source": [
    "\n",
    "dls = db.dataloaders(source=df,bs=1, num_workers=8)\n"
   ]
  },
  {
   "cell_type": "code",
   "execution_count": null,
   "id": "european-invasion",
   "metadata": {},
   "outputs": [],
   "source": [
    "model=ResNestedUNet(num_classes=10,input_channels=4,deep_supervision=False)"
   ]
  },
  {
   "cell_type": "code",
   "execution_count": null,
   "id": "mysterious-mambo",
   "metadata": {},
   "outputs": [],
   "source": [
    "states=torch.load('./models/resunet.pth')"
   ]
  },
  {
   "cell_type": "code",
   "execution_count": null,
   "id": "charming-sleep",
   "metadata": {},
   "outputs": [
    {
     "data": {
      "text/plain": [
       "<All keys matched successfully>"
      ]
     },
     "execution_count": null,
     "metadata": {},
     "output_type": "execute_result"
    }
   ],
   "source": [
    "model.load_state_dict(states)"
   ]
  },
  {
   "cell_type": "code",
   "execution_count": null,
   "id": "nominated-accused",
   "metadata": {},
   "outputs": [],
   "source": [
    "model.cuda().eval()"
   ]
  },
  {
   "cell_type": "code",
   "execution_count": null,
   "id": "cutting-class",
   "metadata": {},
   "outputs": [],
   "source": [
    "import tqdm"
   ]
  },
  {
   "cell_type": "code",
   "execution_count": null,
   "id": "alpha-office",
   "metadata": {},
   "outputs": [],
   "source": [
    "def IOU( pred,label, num_classes=10):\n",
    "    pred = F.softmax(pred, dim=1)              \n",
    "    pred = torch.argmax(pred, dim=1).squeeze(1)\n",
    "    present_iou_list = np.zeros(num_classes)\n",
    "    pred = pred.view(-1)\n",
    "    label = label.view(-1)\n",
    "    # Note: Following for loop goes from 0 to (num_classes-1)\n",
    "    # and ignore_index is num_classes, thus ignore_index is\n",
    "    # not considered in computation of IoU.\n",
    "    for sem_class in range(num_classes):\n",
    "        if sem_class!=30:\n",
    "            pred_inds = (pred == sem_class)\n",
    "            target_inds = (label == sem_class)\n",
    "            if target_inds.long().sum().item() == 0:\n",
    "                iou_now = float('nan')\n",
    "            else: \n",
    "                intersection_now = (pred_inds[target_inds]).long().sum().item()\n",
    "                union_now = pred_inds.long().sum().item() + target_inds.long().sum().item() - intersection_now\n",
    "                iou_now = float(intersection_now) / float(union_now)\n",
    "                present_iou_list[sem_class]=iou_now\n",
    "    return present_iou_list"
   ]
  },
  {
   "cell_type": "code",
   "execution_count": null,
   "id": "convenient-extension",
   "metadata": {},
   "outputs": [],
   "source": []
  },
  {
   "cell_type": "code",
   "execution_count": null,
   "id": "seasonal-exhaust",
   "metadata": {},
   "outputs": [
    {
     "name": "stderr",
     "output_type": "stream",
     "text": [
      "100%|██████████| 1000/1000 [01:04<00:00, 15.50it/s]\n"
     ]
    }
   ],
   "source": [
    "ioussmall=[]\n",
    "iousbig=[]\n",
    "iousnormal=[]\n",
    "iouss=[]\n",
    "IOUn=[]\n",
    "IOUs=[]\n",
    "IOUb=[]\n",
    "Iouf=[]\n",
    "\n",
    "for img,label in tqdm.tqdm(dls.valid):\n",
    "    with torch.no_grad():\n",
    "        result=model(img)\n",
    "        resultsmall=model(F.avg_pool2d(img,2))\n",
    "        resultbig=model(F.upsample_bilinear(img,scale_factor=2))\n",
    "    resultsmall=F.upsample_nearest(resultsmall,scale_factor=2)\n",
    "    resultbig=F.upsample_nearest(resultbig,scale_factor=0.5)\n",
    "    temp=IOU(resultsmall,label)\n",
    "    ioussmall.append(temp)\n",
    "    IOUs.append(np.nanmean(temp[temp!=0]))\n",
    "    temp=IOU(resultbig,label)\n",
    "    iousbig.append(temp)\n",
    "    IOUb.append(np.nanmean(temp[temp!=0]))\n",
    "    temp=IOU(result,label)\n",
    "    iousnormal.append(temp)\n",
    "    IOUn.append(np.nanmean(temp[temp!=0]))\n",
    "    final=torch.cat((result,resultsmall,result)).max(dim=0)[0].unsqueeze(0)    \n",
    "    \n",
    "    temp=IOU(final,label)\n",
    "    iouss.append(temp)\n",
    "    Iouf.append(np.nanmean(temp[temp!=0]))"
   ]
  },
  {
   "cell_type": "code",
   "execution_count": null,
   "id": "blank-european",
   "metadata": {},
   "outputs": [
    {
     "data": {
      "text/plain": [
       "(0.5653191461106647,\n",
       " 0.49684722509666857,\n",
       " 0.49731780533390835,\n",
       " 0.5548164931745874)"
      ]
     },
     "execution_count": null,
     "metadata": {},
     "output_type": "execute_result"
    }
   ],
   "source": [
    "np.mean(IOUn),np.mean(IOUs),np.mean(IOUb),np.mean(Iouf)"
   ]
  },
  {
   "cell_type": "code",
   "execution_count": null,
   "id": "seven-grove",
   "metadata": {},
   "outputs": [
    {
     "data": {
      "text/plain": [
       "array([3.68022865e-01, 8.24807005e-01, 1.23681789e-03, 6.08031373e-02,\n",
       "       2.11516339e-03, 7.58265864e-02, 1.06529124e-02, 1.13778025e-02,\n",
       "       1.22728056e-01, 2.83816128e-04])"
      ]
     },
     "execution_count": null,
     "metadata": {},
     "output_type": "execute_result"
    }
   ],
   "source": [
    "np.asarray(ioussmall).mean(axis=0)"
   ]
  },
  {
   "cell_type": "code",
   "execution_count": null,
   "id": "crazy-judgment",
   "metadata": {},
   "outputs": [
    {
     "data": {
      "text/plain": [
       "array([0.4495213 , 0.84564855, 0.00621638, 0.10307262, 0.00786099,\n",
       "       0.1602063 , 0.01822766, 0.01834135, 0.18301341, 0.00772093])"
      ]
     },
     "execution_count": null,
     "metadata": {},
     "output_type": "execute_result"
    }
   ],
   "source": [
    "np.asarray(iousbig).mean(axis=0)"
   ]
  },
  {
   "cell_type": "code",
   "execution_count": null,
   "id": "instructional-litigation",
   "metadata": {},
   "outputs": [
    {
     "data": {
      "text/plain": [
       "array([0.52416253, 0.87215355, 0.02077488, 0.13245133, 0.00933888,\n",
       "       0.23663429, 0.02253046, 0.02746339, 0.20179011, 0.01082341])"
      ]
     },
     "execution_count": null,
     "metadata": {},
     "output_type": "execute_result"
    }
   ],
   "source": [
    "np.asarray(iousnormal).mean(axis=0)"
   ]
  },
  {
   "cell_type": "code",
   "execution_count": null,
   "id": "modular-nurse",
   "metadata": {},
   "outputs": [],
   "source": [
    "import skimage.io as skio"
   ]
  },
  {
   "cell_type": "code",
   "execution_count": null,
   "id": "strategic-keyboard",
   "metadata": {},
   "outputs": [],
   "source": [
    "imgs=get_files('/home/staff/xin/Downloads/tianchi/test/')"
   ]
  },
  {
   "cell_type": "code",
   "execution_count": null,
   "id": "enclosed-school",
   "metadata": {},
   "outputs": [],
   "source": [
    "for img in imgs:\n",
    "    temp=RsImage.create(img)\n",
    "    temp=val_pipe(image=temp.numpy())['image']\n",
    "    with torch.no_grad():\n",
    "        result=model(temp.unsqueeze(0).cuda())\n",
    "#     result=F.avg_pool2d(result,2)\n",
    "    result=result.argmax(axis=1)\n",
    "    result=result[0]+1\n",
    "    result=result.cpu().numpy().astype('uint8')\n",
    "    newname='/home/staff/xin/Downloads/tianchi/resultV0/'+img.name.replace('tif','png')\n",
    "    skio.imsave(newname,result)"
   ]
  },
  {
   "cell_type": "code",
   "execution_count": null,
   "id": "variable-gazette",
   "metadata": {},
   "outputs": [
    {
     "data": {
      "text/plain": [
       "(1, 4, 512, 512)"
      ]
     },
     "execution_count": null,
     "metadata": {},
     "output_type": "execute_result"
    }
   ],
   "source": [
    ".shape"
   ]
  },
  {
   "cell_type": "code",
   "execution_count": null,
   "id": "incomplete-booking",
   "metadata": {},
   "outputs": [
    {
     "data": {
      "text/plain": [
       "(1, 4, 256, 256)"
      ]
     },
     "execution_count": null,
     "metadata": {},
     "output_type": "execute_result"
    }
   ],
   "source": [
    "img.shape"
   ]
  },
  {
   "cell_type": "code",
   "execution_count": null,
   "id": "meaning-railway",
   "metadata": {},
   "outputs": [],
   "source": []
  }
 ],
 "metadata": {
  "kernelspec": {
   "display_name": "Python [conda env:fastai]",
   "language": "python",
   "name": "conda-env-fastai-py"
  }
 },
 "nbformat": 4,
 "nbformat_minor": 5
}
