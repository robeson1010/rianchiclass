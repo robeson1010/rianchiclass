{
 "cells": [
  {
   "cell_type": "code",
   "execution_count": null,
   "id": "generic-legend",
   "metadata": {},
   "outputs": [],
   "source": [
    "%reload_ext autoreload\n",
    "%autoreload 2\n",
    "%matplotlib inline"
   ]
  },
  {
   "cell_type": "code",
   "execution_count": null,
   "id": "invisible-ecology",
   "metadata": {},
   "outputs": [],
   "source": [
    "#hide\n",
    "from RS.core import *\n",
    "from RS.model import *\n",
    "from fastai.vision.all import *\n",
    "from mmseg.models import build_segmentor\n",
    "from mmcv.utils import Config\n",
    "import tqdm"
   ]
  },
  {
   "cell_type": "markdown",
   "id": "amended-school",
   "metadata": {},
   "source": [
    "4 folder"
   ]
  },
  {
   "cell_type": "code",
   "execution_count": null,
   "id": "incredible-strap",
   "metadata": {},
   "outputs": [],
   "source": [
    "from sklearn.model_selection import KFold"
   ]
  },
  {
   "cell_type": "code",
   "execution_count": null,
   "id": "imposed-ordering",
   "metadata": {},
   "outputs": [],
   "source": [
    "imgs=get_files('/home/staff/xin/Downloads/tianchi/train/',extensions='.tif')"
   ]
  },
  {
   "cell_type": "code",
   "execution_count": null,
   "id": "mediterranean-practitioner",
   "metadata": {},
   "outputs": [],
   "source": [
    "kf = KFold(n_splits=4,shuffle=True)"
   ]
  },
  {
   "cell_type": "code",
   "execution_count": null,
   "id": "entertaining-doctor",
   "metadata": {},
   "outputs": [],
   "source": [
    "idx=0\n",
    "for train_index, test_index in kf.split(imgs):\n",
    "    df=pd.DataFrame({'path':imgs[train_index]})\n",
    "    df['valid']=0\n",
    "    df2=pd.DataFrame({'path':imgs[test_index]})\n",
    "    df2['valid']=1\n",
    "    df=df.append(df2)\n",
    "    for i in range(len(df)):\n",
    "        df.iloc[i,0]=str(df.iloc[i,0]).replace('/home/staff/xin/Downloads/tianchi/','/home/user/robeson/fastai2/')\n",
    "    df.to_csv('./datafolder/'+str(idx)+'.csv',index=False)\n",
    "    idx=idx+1"
   ]
  },
  {
   "cell_type": "code",
   "execution_count": null,
   "id": "informal-boost",
   "metadata": {},
   "outputs": [
    {
     "data": {
      "text/html": [
       "<div>\n",
       "<style scoped>\n",
       "    .dataframe tbody tr th:only-of-type {\n",
       "        vertical-align: middle;\n",
       "    }\n",
       "\n",
       "    .dataframe tbody tr th {\n",
       "        vertical-align: top;\n",
       "    }\n",
       "\n",
       "    .dataframe thead th {\n",
       "        text-align: right;\n",
       "    }\n",
       "</style>\n",
       "<table border=\"1\" class=\"dataframe\">\n",
       "  <thead>\n",
       "    <tr style=\"text-align: right;\">\n",
       "      <th></th>\n",
       "      <th>path</th>\n",
       "      <th>valid</th>\n",
       "    </tr>\n",
       "  </thead>\n",
       "  <tbody>\n",
       "    <tr>\n",
       "      <th>0</th>\n",
       "      <td>/home/user/robeson/fastai2/train/003103.tif</td>\n",
       "      <td>0</td>\n",
       "    </tr>\n",
       "    <tr>\n",
       "      <th>1</th>\n",
       "      <td>/home/user/robeson/fastai2/train/002664.tif</td>\n",
       "      <td>0</td>\n",
       "    </tr>\n",
       "    <tr>\n",
       "      <th>2</th>\n",
       "      <td>/home/user/robeson/fastai2/train/002469.tif</td>\n",
       "      <td>0</td>\n",
       "    </tr>\n",
       "    <tr>\n",
       "      <th>3</th>\n",
       "      <td>/home/user/robeson/fastai2/train/005869.tif</td>\n",
       "      <td>0</td>\n",
       "    </tr>\n",
       "    <tr>\n",
       "      <th>4</th>\n",
       "      <td>/home/user/robeson/fastai2/train/005472.tif</td>\n",
       "      <td>0</td>\n",
       "    </tr>\n",
       "    <tr>\n",
       "      <th>...</th>\n",
       "      <td>...</td>\n",
       "      <td>...</td>\n",
       "    </tr>\n",
       "    <tr>\n",
       "      <th>4000</th>\n",
       "      <td>/home/user/robeson/fastai2/train/001432.tif</td>\n",
       "      <td>1</td>\n",
       "    </tr>\n",
       "    <tr>\n",
       "      <th>4001</th>\n",
       "      <td>/home/user/robeson/fastai2/train/012857.tif</td>\n",
       "      <td>1</td>\n",
       "    </tr>\n",
       "    <tr>\n",
       "      <th>4002</th>\n",
       "      <td>/home/user/robeson/fastai2/train/001937.tif</td>\n",
       "      <td>1</td>\n",
       "    </tr>\n",
       "    <tr>\n",
       "      <th>4003</th>\n",
       "      <td>/home/user/robeson/fastai2/train/001232.tif</td>\n",
       "      <td>1</td>\n",
       "    </tr>\n",
       "    <tr>\n",
       "      <th>4004</th>\n",
       "      <td>/home/user/robeson/fastai2/train/013035.tif</td>\n",
       "      <td>1</td>\n",
       "    </tr>\n",
       "  </tbody>\n",
       "</table>\n",
       "<p>16017 rows × 2 columns</p>\n",
       "</div>"
      ],
      "text/plain": [
       "                                             path  valid\n",
       "0     /home/user/robeson/fastai2/train/003103.tif      0\n",
       "1     /home/user/robeson/fastai2/train/002664.tif      0\n",
       "2     /home/user/robeson/fastai2/train/002469.tif      0\n",
       "3     /home/user/robeson/fastai2/train/005869.tif      0\n",
       "4     /home/user/robeson/fastai2/train/005472.tif      0\n",
       "...                                           ...    ...\n",
       "4000  /home/user/robeson/fastai2/train/001432.tif      1\n",
       "4001  /home/user/robeson/fastai2/train/012857.tif      1\n",
       "4002  /home/user/robeson/fastai2/train/001937.tif      1\n",
       "4003  /home/user/robeson/fastai2/train/001232.tif      1\n",
       "4004  /home/user/robeson/fastai2/train/013035.tif      1\n",
       "\n",
       "[16017 rows x 2 columns]"
      ]
     },
     "execution_count": null,
     "metadata": {},
     "output_type": "execute_result"
    }
   ],
   "source": [
    "df"
   ]
  },
  {
   "cell_type": "code",
   "execution_count": null,
   "id": "perfect-durham",
   "metadata": {},
   "outputs": [],
   "source": [
    "torch.cuda.set_device(1)"
   ]
  },
  {
   "cell_type": "code",
   "execution_count": null,
   "id": "special-narrative",
   "metadata": {},
   "outputs": [],
   "source": [
    "class HRNET(nn.Module):\n",
    "    def __init__(self,cfgfile):\n",
    "        super().__init__()\n",
    "        cfg = Config.fromfile(cfgfile)\n",
    "        temp=build_segmentor(cfg.model)\n",
    "        self.backbone =temp.backbone\n",
    "        self.decode_head = temp.decode_head\n",
    "    def forward(self, x):\n",
    "#         x=F.upsample_bilinear(x,scale_factor=2)\n",
    "        x = self.backbone(x)\n",
    "        x = self.decode_head(x)\n",
    "        return x"
   ]
  },
  {
   "cell_type": "code",
   "execution_count": null,
   "id": "artistic-editor",
   "metadata": {},
   "outputs": [],
   "source": [
    "\n",
    "model=HRNET(cfgfile='./fcn_hr18.py')"
   ]
  },
  {
   "cell_type": "code",
   "execution_count": null,
   "id": "referenced-option",
   "metadata": {},
   "outputs": [
    {
     "data": {
      "text/plain": [
       "<All keys matched successfully>"
      ]
     },
     "execution_count": null,
     "metadata": {},
     "output_type": "execute_result"
    }
   ],
   "source": [
    "stats=torch.load('./models/hrnet.pth')\n",
    "model.load_state_dict(stats)"
   ]
  },
  {
   "cell_type": "code",
   "execution_count": null,
   "id": "separated-repair",
   "metadata": {},
   "outputs": [],
   "source": [
    "model=model.cuda().eval()"
   ]
  },
  {
   "cell_type": "code",
   "execution_count": null,
   "id": "alternate-consistency",
   "metadata": {},
   "outputs": [],
   "source": [
    "imgs=get_files('/home/staff/xin/Downloads/tianchi/train/',extensions='.tif')"
   ]
  },
  {
   "cell_type": "code",
   "execution_count": null,
   "id": "fantastic-decimal",
   "metadata": {},
   "outputs": [
    {
     "name": "stderr",
     "output_type": "stream",
     "text": [
      "100%|██████████| 16017/16017 [08:58<00:00, 29.73it/s]\n"
     ]
    }
   ],
   "source": [
    "weights=[]\n",
    "for img in tqdm.tqdm(imgs):\n",
    "    temp=RsImage.create(img)\n",
    "    temp=val_pipe(image=temp.numpy())['image']\n",
    "    with torch.no_grad():\n",
    "        result=model(temp.unsqueeze(0).cuda())\n",
    "    weights.append(result[3][0].cpu())"
   ]
  },
  {
   "cell_type": "code",
   "execution_count": null,
   "id": "collectible-reservoir",
   "metadata": {},
   "outputs": [
    {
     "data": {
      "text/plain": [
       "16017"
      ]
     },
     "execution_count": null,
     "metadata": {},
     "output_type": "execute_result"
    }
   ],
   "source": [
    "len(weights)"
   ]
  },
  {
   "cell_type": "code",
   "execution_count": null,
   "id": "peaceful-jenny",
   "metadata": {},
   "outputs": [],
   "source": [
    "dis=nn.PairwiseDistance(p=2)"
   ]
  },
  {
   "cell_type": "code",
   "execution_count": null,
   "id": "interpreted-gossip",
   "metadata": {},
   "outputs": [],
   "source": [
    "imgs2=get_files('/home/staff/xin/Downloads/tianchi/test/',extensions='.tif')"
   ]
  },
  {
   "cell_type": "code",
   "execution_count": null,
   "id": "raising-complex",
   "metadata": {},
   "outputs": [
    {
     "name": "stderr",
     "output_type": "stream",
     "text": [
      "100%|██████████| 3000/3000 [1:06:24<00:00,  1.33s/it]\n"
     ]
    }
   ],
   "source": [
    "path1=[]\n",
    "path2=[]\n",
    "for img in tqdm.tqdm(imgs2):\n",
    "    temp=RsImage.create(img)\n",
    "    temp=val_pipe(image=temp.numpy())['image']\n",
    "    with torch.no_grad():\n",
    "        result=model(temp.unsqueeze(0).cuda())\n",
    "    minmax=torch.zeros(16017)\n",
    "    for i in range(16017):\n",
    "        ss=dis(weights[i].unsqueeze(0),result[3].cpu()).mean()\n",
    "        minmax[i]=ss\n",
    "    path1.append(img)\n",
    "    path2.append(imgs[minmax.argmin()])\n",
    "#     break"
   ]
  },
  {
   "cell_type": "code",
   "execution_count": null,
   "id": "divided-conditioning",
   "metadata": {},
   "outputs": [],
   "source": [
    "newdf=pd.DataFrame({'path1':path1,'path2':path2\n",
    "    \n",
    "})"
   ]
  },
  {
   "cell_type": "code",
   "execution_count": null,
   "id": "retained-national",
   "metadata": {},
   "outputs": [],
   "source": [
    "newdf.to_csv('same.csv',index=False)"
   ]
  },
  {
   "cell_type": "code",
   "execution_count": null,
   "id": "latest-closure",
   "metadata": {},
   "outputs": [],
   "source": [
    "def mIOU( pred,label, num_classes=10,scale=4):\n",
    "    pred =F.upsample_bilinear(pred,scale_factor=scale)  \n",
    "    pred = F.softmax(pred, dim=1)              \n",
    "    pred = torch.argmax(pred, dim=1).squeeze(1)\n",
    "    \n",
    "    iou_list = list()\n",
    "    present_iou_list = list()\n",
    "    pred = pred.view(-1)\n",
    "    label = label.view(-1)\n",
    "    # Note: Following for loop goes from 0 to (num_classes-1)\n",
    "    # and ignore_index is num_classes, thus ignore_index is\n",
    "    # not considered in computation of IoU.\n",
    "    for sem_class in range(num_classes):\n",
    "        if sem_class!=30:\n",
    "            pred_inds = (pred == sem_class)\n",
    "            target_inds = (label == sem_class)\n",
    "            if target_inds.long().sum().item() == 0:\n",
    "                iou_now = float('nan')\n",
    "            else: \n",
    "                intersection_now = (pred_inds[target_inds]).long().sum().item()\n",
    "                union_now = pred_inds.long().sum().item() + target_inds.long().sum().item() - intersection_now\n",
    "                iou_now = float(intersection_now) / float(union_now)\n",
    "                present_iou_list.append(iou_now)\n",
    "            iou_list.append(iou_now)\n",
    "#     print(present_iou_list)\n",
    "    return np.mean(present_iou_list)"
   ]
  },
  {
   "cell_type": "code",
   "execution_count": null,
   "id": "christian-manual",
   "metadata": {},
   "outputs": [
    {
     "name": "stderr",
     "output_type": "stream",
     "text": [
      "100%|██████████| 3000/3000 [01:39<00:00, 30.15it/s]\n"
     ]
    }
   ],
   "source": [
    "ious=[]\n",
    "for img in tqdm.tqdm(path2):\n",
    "    temp=RsImage.create(img)\n",
    "    label=RsMask.create(str(img).replace('tif','png'))\n",
    "    temp=val_pipe(image=temp.numpy(),mask=label.numpy())\n",
    "    temp,bb=temp['image'],temp['mask']\n",
    "    with torch.no_grad():\n",
    "        result=model(temp.unsqueeze(0).cuda())\n",
    "#     result =F.upsample_bilinear(result,scale_factor=4)\n",
    "#     result=F.softmax(result)\n",
    "#     result=result.argmax(axis=1)\n",
    "    ious.append(mIOU(result,bb))"
   ]
  },
  {
   "cell_type": "code",
   "execution_count": null,
   "id": "occupied-boring",
   "metadata": {},
   "outputs": [
    {
     "data": {
      "text/plain": [
       "0.45765883444868033"
      ]
     },
     "execution_count": null,
     "metadata": {},
     "output_type": "execute_result"
    }
   ],
   "source": [
    "np.mean(ious)"
   ]
  },
  {
   "cell_type": "code",
   "execution_count": null,
   "id": "minor-authority",
   "metadata": {},
   "outputs": [
    {
     "name": "stdout",
     "output_type": "stream",
     "text": [
      "[]\n"
     ]
    },
    {
     "data": {
      "text/plain": [
       "nan"
      ]
     },
     "execution_count": null,
     "metadata": {},
     "output_type": "execute_result"
    }
   ],
   "source": [
    "mIOU(result,bb)"
   ]
  },
  {
   "cell_type": "code",
   "execution_count": null,
   "id": "qualified-international",
   "metadata": {},
   "outputs": [
    {
     "data": {
      "image/png": "[encoded data removed]",
      "text/plain": [
       "<Figure size 432x288 with 1 Axes>"
      ]
     },
     "metadata": {
      "needs_background": "light"
     },
     "output_type": "display_data"
    }
   ],
   "source": [
    "RsImage.create(img).show()"
   ]
  },
  {
   "cell_type": "code",
   "execution_count": null,
   "id": "indie-campbell",
   "metadata": {},
   "outputs": [],
   "source": []
  }
 ],
 "metadata": {
  "kernelspec": {
   "display_name": "Python [conda env:fastai]",
   "language": "python",
   "name": "conda-env-fastai-py"
  }
 },
 "nbformat": 4,
 "nbformat_minor": 5
}
