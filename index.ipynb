{
 "cells": [
  {
   "cell_type": "code",
   "execution_count": null,
   "metadata": {},
   "outputs": [],
   "source": [
    "%reload_ext autoreload\n",
    "%autoreload 2\n",
    "%matplotlib inline"
   ]
  },
  {
   "cell_type": "code",
   "execution_count": null,
   "metadata": {},
   "outputs": [],
   "source": [
    "#hide\n",
    "from RS.core import *\n",
    "from RS.model import *\n",
    "import lovasz_loss as Lov"
   ]
  },
  {
   "cell_type": "markdown",
   "metadata": {},
   "source": [
    "# Project name here\n",
    "\n",
    "> Summary description here."
   ]
  },
  {
   "cell_type": "markdown",
   "metadata": {},
   "source": [
    "This file will become your README and also the index of your documentation."
   ]
  },
  {
   "cell_type": "markdown",
   "metadata": {},
   "source": [
    "## Install"
   ]
  },
  {
   "cell_type": "markdown",
   "metadata": {},
   "source": [
    "`pip install your_project_name`"
   ]
  },
  {
   "cell_type": "markdown",
   "metadata": {},
   "source": [
    "## How to use"
   ]
  },
  {
   "cell_type": "markdown",
   "metadata": {},
   "source": [
    "Fill me in please! Don't forget code examples:"
   ]
  },
  {
   "cell_type": "code",
   "execution_count": null,
   "metadata": {},
   "outputs": [],
   "source": [
    "from fastai.vision.all import *"
   ]
  },
  {
   "cell_type": "code",
   "execution_count": null,
   "metadata": {},
   "outputs": [],
   "source": [
    "# torch.cuda.set_device(1)"
   ]
  },
  {
   "cell_type": "code",
   "execution_count": null,
   "metadata": {},
   "outputs": [],
   "source": [
    "# df=pd.read_csv('./train.csv')\n",
    "imgs=get_files('/home/staff/xin/Downloads/tianchi/train/',extensions='.tif')\n",
    "df=pd.DataFrame({'path':imgs})"
   ]
  },
  {
   "cell_type": "code",
   "execution_count": null,
   "metadata": {},
   "outputs": [
    {
     "data": {
      "text/html": [
       "<div>\n",
       "<style scoped>\n",
       "    .dataframe tbody tr th:only-of-type {\n",
       "        vertical-align: middle;\n",
       "    }\n",
       "\n",
       "    .dataframe tbody tr th {\n",
       "        vertical-align: top;\n",
       "    }\n",
       "\n",
       "    .dataframe thead th {\n",
       "        text-align: right;\n",
       "    }\n",
       "</style>\n",
       "<table border=\"1\" class=\"dataframe\">\n",
       "  <thead>\n",
       "    <tr style=\"text-align: right;\">\n",
       "      <th></th>\n",
       "      <th>path</th>\n",
       "    </tr>\n",
       "  </thead>\n",
       "  <tbody>\n",
       "    <tr>\n",
       "      <th>0</th>\n",
       "      <td>/home/staff/xin/Downloads/tianchi/train/003957.tif</td>\n",
       "    </tr>\n",
       "    <tr>\n",
       "      <th>1</th>\n",
       "      <td>/home/staff/xin/Downloads/tianchi/train/003103.tif</td>\n",
       "    </tr>\n",
       "    <tr>\n",
       "      <th>2</th>\n",
       "      <td>/home/staff/xin/Downloads/tianchi/train/002664.tif</td>\n",
       "    </tr>\n",
       "    <tr>\n",
       "      <th>3</th>\n",
       "      <td>/home/staff/xin/Downloads/tianchi/train/000901.tif</td>\n",
       "    </tr>\n",
       "    <tr>\n",
       "      <th>4</th>\n",
       "      <td>/home/staff/xin/Downloads/tianchi/train/002469.tif</td>\n",
       "    </tr>\n",
       "  </tbody>\n",
       "</table>\n",
       "</div>"
      ],
      "text/plain": [
       "                                                 path\n",
       "0  /home/staff/xin/Downloads/tianchi/train/003957.tif\n",
       "1  /home/staff/xin/Downloads/tianchi/train/003103.tif\n",
       "2  /home/staff/xin/Downloads/tianchi/train/002664.tif\n",
       "3  /home/staff/xin/Downloads/tianchi/train/000901.tif\n",
       "4  /home/staff/xin/Downloads/tianchi/train/002469.tif"
      ]
     },
     "execution_count": null,
     "metadata": {},
     "output_type": "execute_result"
    }
   ],
   "source": [
    "df.head()"
   ]
  },
  {
   "cell_type": "code",
   "execution_count": null,
   "metadata": {},
   "outputs": [],
   "source": [
    "# db = DataBlock(blocks=(TransformBlock(type_tfms=partial(RsImage.create)),\n",
    "#                        TransformBlock(type_tfms=partial(RsMask.create)),\n",
    "#                       ),\n",
    "#                get_x=ColReader('path'),\n",
    "#                get_y=ColReader('path'),\n",
    "#                splitter=ColSplitter('valid'),\n",
    "#                item_tfms=[aug,aug2]\n",
    "#               )\n",
    "db = DataBlock(blocks=(TransformBlock(type_tfms=partial(RsImage.create)),\n",
    "                       TransformBlock(type_tfms=partial(RsMask.create)),\n",
    "                      ),\n",
    "               get_x=ColReader('path'),\n",
    "               get_y=ColReader('path'),\n",
    "               splitter=RandomSplitter(valid_pct=0.2,seed=10),\n",
    "               item_tfms=[aug,aug2]\n",
    "              )\n",
    "\n",
    "# db.summary(source=df)"
   ]
  },
  {
   "cell_type": "code",
   "execution_count": null,
   "metadata": {},
   "outputs": [],
   "source": [
    "\n",
    "dls = db.dataloaders(source=df,bs=16, num_workers=8)\n"
   ]
  },
  {
   "cell_type": "code",
   "execution_count": null,
   "metadata": {},
   "outputs": [],
   "source": [
    "model=ResNestedUNet(num_classes=10,input_channels=4,deep_supervision=False)\n",
    "apply_init(model)"
   ]
  },
  {
   "cell_type": "code",
   "execution_count": null,
   "metadata": {},
   "outputs": [],
   "source": [
    "# loss=OhemCrossEntropy()"
   ]
  },
  {
   "cell_type": "code",
   "execution_count": null,
   "metadata": {},
   "outputs": [],
   "source": [
    "def mIOU( pred,label, num_classes=10):\n",
    "    pred = F.softmax(pred, dim=1)              \n",
    "    pred = torch.argmax(pred, dim=1).squeeze(1)\n",
    "    iou_list = list()\n",
    "    present_iou_list = list()\n",
    "    pred = pred.view(-1)\n",
    "    label = label.view(-1)\n",
    "    # Note: Following for loop goes from 0 to (num_classes-1)\n",
    "    # and ignore_index is num_classes, thus ignore_index is\n",
    "    # not considered in computation of IoU.\n",
    "    for sem_class in range(num_classes):\n",
    "        if sem_class!=30:\n",
    "            pred_inds = (pred == sem_class)\n",
    "            target_inds = (label == sem_class)\n",
    "            if target_inds.long().sum().item() == 0:\n",
    "                iou_now = float('nan')\n",
    "            else: \n",
    "                intersection_now = (pred_inds[target_inds]).long().sum().item()\n",
    "                union_now = pred_inds.long().sum().item() + target_inds.long().sum().item() - intersection_now\n",
    "                iou_now = float(intersection_now) / float(union_now)\n",
    "                present_iou_list.append(iou_now)\n",
    "            iou_list.append(iou_now)\n",
    "    return np.mean(present_iou_list)"
   ]
  },
  {
   "cell_type": "code",
   "execution_count": null,
   "metadata": {},
   "outputs": [],
   "source": [
    "class newloss(nn.Module):\n",
    "    def __init__(self,):\n",
    "        super().__init__()\n",
    "        self.loss = CrossEntropyLossFlat(axis=1)\n",
    "    def forward(self, input, target):\n",
    "        return self.loss(RsImage(input),RsImage(target.long()))"
   ]
  },
  {
   "cell_type": "code",
   "execution_count": null,
   "metadata": {},
   "outputs": [],
   "source": [
    "class OhemCrossEntropy(nn.Module): \n",
    "    def __init__(self, ignore_label=-1, thres=0.7, \n",
    "        min_kept=100000, weight=None): \n",
    "        super(OhemCrossEntropy, self).__init__() \n",
    "        self.thresh = thres\n",
    "        self.min_kept = max(1, min_kept)\n",
    "        self.ignore_label = ignore_label \n",
    "        self.weight=weight\n",
    "        self.criterion = nn.CrossEntropyLoss(weight=weight, \n",
    "                                             ignore_index=ignore_label, \n",
    "                                             reduction='none') \n",
    "    \n",
    "    def forward(self, score, target, **kwargs):\n",
    "        target=RsImage(target.long())\n",
    "        pred = F.softmax(score, dim=1)\n",
    "        pixel_losses = self.criterion(score, target).contiguous().view(-1)\n",
    "        mask = target.contiguous().view(-1) != self.ignore_label         \n",
    "        \n",
    "        tmp_target = target.clone() \n",
    "        tmp_target[tmp_target == self.ignore_label] = 0 \n",
    "        pred = pred.gather(1, tmp_target.unsqueeze(1)) \n",
    "        pred, ind = pred.contiguous().view(-1,)[mask].contiguous().sort()\n",
    "        min_value = pred[min(self.min_kept, pred.numel() - 1)] \n",
    "        threshold = max(min_value, self.thresh) \n",
    "        \n",
    "        pixel_losses = pixel_losses[mask][ind]\n",
    "        pixel_losses = pixel_losses[pred < threshold] \n",
    "#         iouloss=Lov.lovasz_softmax(score,target,class_weight=self.weight)\n",
    "        return pixel_losses.mean()"
   ]
  },
  {
   "cell_type": "code",
   "execution_count": null,
   "metadata": {},
   "outputs": [],
   "source": [
    "class Lovloss(nn.Module): \n",
    "    def __init__(self, ignore_label=-1, thres=0.7, \n",
    "        min_kept=100000, weight=None): \n",
    "        super(Lovloss, self).__init__() \n",
    "        self.weight=weight\n",
    "    \n",
    "    def forward(self, score, target, **kwargs):\n",
    "        target=RsImage(target.long())\n",
    "        pred = F.softmax(score, dim=1)\n",
    "        return Lov.lovasz_softmax(score,target,class_weight=self.weight)"
   ]
  },
  {
   "cell_type": "code",
   "execution_count": null,
   "metadata": {},
   "outputs": [],
   "source": [
    "weight=torch.FloatTensor([2,1,4,4,2,2,2,4,2,4]).cuda()"
   ]
  },
  {
   "cell_type": "code",
   "execution_count": null,
   "metadata": {},
   "outputs": [],
   "source": [
    "loss=OhemCrossEntropy(weight=weight)"
   ]
  },
  {
   "cell_type": "code",
   "execution_count": null,
   "metadata": {},
   "outputs": [],
   "source": [
    "learn = Learner(dls,model,metrics=mIOU,loss_func=loss).to_fp16()"
   ]
  },
  {
   "cell_type": "code",
   "execution_count": null,
   "metadata": {},
   "outputs": [
    {
     "data": {
      "text/plain": [
       "<fastai.learner.Learner at 0x7ff84f8074c0>"
      ]
     },
     "execution_count": null,
     "metadata": {},
     "output_type": "execute_result"
    }
   ],
   "source": [
    "learn.load('resunet')"
   ]
  },
  {
   "cell_type": "code",
   "execution_count": null,
   "metadata": {},
   "outputs": [
    {
     "data": {
      "text/html": [],
      "text/plain": [
       "<IPython.core.display.HTML object>"
      ]
     },
     "metadata": {},
     "output_type": "display_data"
    },
    {
     "data": {
      "text/plain": [
       "SuggestedLRs(lr_min=0.33113112449646, lr_steep=2.7542285919189453)"
      ]
     },
     "execution_count": null,
     "metadata": {},
     "output_type": "execute_result"
    },
    {
     "data": {
      "image/png": "[encoded data removed]",
      "text/plain": [
       "<Figure size 432x288 with 1 Axes>"
      ]
     },
     "metadata": {
      "needs_background": "light"
     },
     "output_type": "display_data"
    }
   ],
   "source": [
    "learn.lr_find()"
   ]
  },
  {
   "cell_type": "code",
   "execution_count": null,
   "metadata": {},
   "outputs": [
    {
     "data": {
      "text/html": [
       "\n",
       "    <div>\n",
       "        <style>\n",
       "            /* Turns off some styling */\n",
       "            progress {\n",
       "                /* gets rid of default border in Firefox and Opera. */\n",
       "                border: none;\n",
       "                /* Needs to be in here for Safari polyfill so background images work as expected. */\n",
       "                background-size: auto;\n",
       "            }\n",
       "            .progress-bar-interrupted, .progress-bar-interrupted::-webkit-progress-bar {\n",
       "                background: #F44336;\n",
       "            }\n",
       "        </style>\n",
       "      <progress value='10' class='' max='50' style='width:300px; height:20px; vertical-align: middle;'></progress>\n",
       "      20.00% [10/50 1:08:30<4:34:00]\n",
       "    </div>\n",
       "    \n",
       "<table border=\"1\" class=\"dataframe\">\n",
       "  <thead>\n",
       "    <tr style=\"text-align: left;\">\n",
       "      <th>epoch</th>\n",
       "      <th>train_loss</th>\n",
       "      <th>valid_loss</th>\n",
       "      <th>mIOU</th>\n",
       "      <th>time</th>\n",
       "    </tr>\n",
       "  </thead>\n",
       "  <tbody>\n",
       "    <tr>\n",
       "      <td>0</td>\n",
       "      <td>13.101887</td>\n",
       "      <td>13.305848</td>\n",
       "      <td>0.278248</td>\n",
       "      <td>06:45</td>\n",
       "    </tr>\n",
       "    <tr>\n",
       "      <td>1</td>\n",
       "      <td>7.941946</td>\n",
       "      <td>7.924438</td>\n",
       "      <td>0.291747</td>\n",
       "      <td>07:07</td>\n",
       "    </tr>\n",
       "    <tr>\n",
       "      <td>2</td>\n",
       "      <td>4.483730</td>\n",
       "      <td>4.349717</td>\n",
       "      <td>0.311456</td>\n",
       "      <td>07:08</td>\n",
       "    </tr>\n",
       "    <tr>\n",
       "      <td>3</td>\n",
       "      <td>3.218871</td>\n",
       "      <td>3.178202</td>\n",
       "      <td>0.312693</td>\n",
       "      <td>07:09</td>\n",
       "    </tr>\n",
       "    <tr>\n",
       "      <td>4</td>\n",
       "      <td>3.591551</td>\n",
       "      <td>3.381716</td>\n",
       "      <td>0.259240</td>\n",
       "      <td>07:06</td>\n",
       "    </tr>\n",
       "    <tr>\n",
       "      <td>5</td>\n",
       "      <td>3.538093</td>\n",
       "      <td>3.558683</td>\n",
       "      <td>0.277935</td>\n",
       "      <td>06:38</td>\n",
       "    </tr>\n",
       "    <tr>\n",
       "      <td>6</td>\n",
       "      <td>3.522654</td>\n",
       "      <td>3.216450</td>\n",
       "      <td>0.295584</td>\n",
       "      <td>06:38</td>\n",
       "    </tr>\n",
       "    <tr>\n",
       "      <td>7</td>\n",
       "      <td>3.438357</td>\n",
       "      <td>3.323000</td>\n",
       "      <td>0.314286</td>\n",
       "      <td>06:38</td>\n",
       "    </tr>\n",
       "    <tr>\n",
       "      <td>8</td>\n",
       "      <td>3.442456</td>\n",
       "      <td>3.418908</td>\n",
       "      <td>0.308673</td>\n",
       "      <td>06:38</td>\n",
       "    </tr>\n",
       "    <tr>\n",
       "      <td>9</td>\n",
       "      <td>3.394341</td>\n",
       "      <td>3.443408</td>\n",
       "      <td>0.302147</td>\n",
       "      <td>06:38</td>\n",
       "    </tr>\n",
       "  </tbody>\n",
       "</table><p>\n",
       "\n",
       "    <div>\n",
       "        <style>\n",
       "            /* Turns off some styling */\n",
       "            progress {\n",
       "                /* gets rid of default border in Firefox and Opera. */\n",
       "                border: none;\n",
       "                /* Needs to be in here for Safari polyfill so background images work as expected. */\n",
       "                background-size: auto;\n",
       "            }\n",
       "            .progress-bar-interrupted, .progress-bar-interrupted::-webkit-progress-bar {\n",
       "                background: #F44336;\n",
       "            }\n",
       "        </style>\n",
       "      <progress value='543' class='' max='901' style='width:300px; height:20px; vertical-align: middle;'></progress>\n",
       "      60.27% [543/901 04:21<02:52 3.4148]\n",
       "    </div>\n",
       "    "
      ],
      "text/plain": [
       "<IPython.core.display.HTML object>"
      ]
     },
     "metadata": {},
     "output_type": "display_data"
    },
    {
     "name": "stdout",
     "output_type": "stream",
     "text": [
      "Better model found at epoch 0 with mIOU value: 0.2782482623136581.\n",
      "Better model found at epoch 1 with mIOU value: 0.2917466496236728.\n",
      "Better model found at epoch 2 with mIOU value: 0.31145583808422345.\n",
      "Better model found at epoch 3 with mIOU value: 0.3126932801424088.\n",
      "Better model found at epoch 7 with mIOU value: 0.3142861891935157.\n"
     ]
    }
   ],
   "source": [
    "learn.fit_one_cycle(50, 1e-3,cbs=[CSVLogger(fname='resunetfull.csv',append=False),SaveModelCallback(monitor='mIOU',fname='resunetfull')])"
   ]
  },
  {
   "cell_type": "code",
   "execution_count": null,
   "metadata": {},
   "outputs": [],
   "source": []
  },
  {
   "cell_type": "code",
   "execution_count": null,
   "metadata": {},
   "outputs": [],
   "source": []
  },
  {
   "cell_type": "code",
   "execution_count": null,
   "metadata": {},
   "outputs": [],
   "source": [
    "db = DataBlock(blocks=(TransformBlock(type_tfms=partial(RsImage.create)),\n",
    "                       TransformBlock(type_tfms=partial(RsMask.create)),\n",
    "                      ),\n",
    "               get_x=ColReader('path'),\n",
    "               get_y=ColReader('path'),\n",
    "               splitter=ColSplitter('valid'),\n",
    "               item_tfms=[augb,aug2b]\n",
    "              )\n",
    "\n",
    "# db.summary(source=df)"
   ]
  },
  {
   "cell_type": "code",
   "execution_count": null,
   "metadata": {},
   "outputs": [],
   "source": [
    "dls = db.dataloaders(source=df,bs=6, num_workers=4)"
   ]
  },
  {
   "cell_type": "code",
   "execution_count": null,
   "metadata": {},
   "outputs": [],
   "source": [
    "learn = Learner(dls,model,metrics=mIOU,loss_func=loss).to_fp16()"
   ]
  },
  {
   "cell_type": "code",
   "execution_count": null,
   "metadata": {},
   "outputs": [
    {
     "data": {
      "text/plain": [
       "<fastai.learner.Learner at 0x7fc2103bff10>"
      ]
     },
     "execution_count": null,
     "metadata": {},
     "output_type": "execute_result"
    }
   ],
   "source": [
    "learn.load('resunet')"
   ]
  },
  {
   "cell_type": "code",
   "execution_count": null,
   "metadata": {},
   "outputs": [
    {
     "data": {
      "text/html": [],
      "text/plain": [
       "<IPython.core.display.HTML object>"
      ]
     },
     "metadata": {},
     "output_type": "display_data"
    },
    {
     "data": {
      "text/plain": [
       "SuggestedLRs(lr_min=0.33113112449646, lr_steep=2.7542285919189453)"
      ]
     },
     "execution_count": null,
     "metadata": {},
     "output_type": "execute_result"
    },
    {
     "data": {
      "image/png": "[encoded data removed]",
      "text/plain": [
       "<Figure size 432x288 with 1 Axes>"
      ]
     },
     "metadata": {
      "needs_background": "light"
     },
     "output_type": "display_data"
    }
   ],
   "source": [
    "learn.lr_find()"
   ]
  },
  {
   "cell_type": "code",
   "execution_count": null,
   "metadata": {},
   "outputs": [
    {
     "data": {
      "text/html": [
       "<table border=\"1\" class=\"dataframe\">\n",
       "  <thead>\n",
       "    <tr style=\"text-align: left;\">\n",
       "      <th>epoch</th>\n",
       "      <th>train_loss</th>\n",
       "      <th>valid_loss</th>\n",
       "      <th>mIOU</th>\n",
       "      <th>time</th>\n",
       "    </tr>\n",
       "  </thead>\n",
       "  <tbody>\n",
       "    <tr>\n",
       "      <td>0</td>\n",
       "      <td>1.099139</td>\n",
       "      <td>1.150839</td>\n",
       "      <td>0.297078</td>\n",
       "      <td>06:02</td>\n",
       "    </tr>\n",
       "    <tr>\n",
       "      <td>1</td>\n",
       "      <td>1.103459</td>\n",
       "      <td>1.102945</td>\n",
       "      <td>0.302756</td>\n",
       "      <td>05:58</td>\n",
       "    </tr>\n",
       "    <tr>\n",
       "      <td>2</td>\n",
       "      <td>1.012630</td>\n",
       "      <td>1.044157</td>\n",
       "      <td>0.307101</td>\n",
       "      <td>05:58</td>\n",
       "    </tr>\n",
       "    <tr>\n",
       "      <td>3</td>\n",
       "      <td>0.985338</td>\n",
       "      <td>1.035703</td>\n",
       "      <td>0.311624</td>\n",
       "      <td>05:58</td>\n",
       "    </tr>\n",
       "    <tr>\n",
       "      <td>4</td>\n",
       "      <td>0.957569</td>\n",
       "      <td>1.023964</td>\n",
       "      <td>0.312812</td>\n",
       "      <td>05:59</td>\n",
       "    </tr>\n",
       "    <tr>\n",
       "      <td>5</td>\n",
       "      <td>0.953731</td>\n",
       "      <td>0.979053</td>\n",
       "      <td>0.321467</td>\n",
       "      <td>05:59</td>\n",
       "    </tr>\n",
       "    <tr>\n",
       "      <td>6</td>\n",
       "      <td>0.963843</td>\n",
       "      <td>0.974124</td>\n",
       "      <td>0.321962</td>\n",
       "      <td>05:59</td>\n",
       "    </tr>\n",
       "    <tr>\n",
       "      <td>7</td>\n",
       "      <td>0.968543</td>\n",
       "      <td>0.988442</td>\n",
       "      <td>0.326042</td>\n",
       "      <td>05:59</td>\n",
       "    </tr>\n",
       "    <tr>\n",
       "      <td>8</td>\n",
       "      <td>0.953888</td>\n",
       "      <td>0.986929</td>\n",
       "      <td>0.325608</td>\n",
       "      <td>05:59</td>\n",
       "    </tr>\n",
       "    <tr>\n",
       "      <td>9</td>\n",
       "      <td>0.947728</td>\n",
       "      <td>0.982077</td>\n",
       "      <td>0.326625</td>\n",
       "      <td>05:59</td>\n",
       "    </tr>\n",
       "    <tr>\n",
       "      <td>10</td>\n",
       "      <td>0.944186</td>\n",
       "      <td>0.986062</td>\n",
       "      <td>0.329811</td>\n",
       "      <td>05:59</td>\n",
       "    </tr>\n",
       "    <tr>\n",
       "      <td>11</td>\n",
       "      <td>0.942341</td>\n",
       "      <td>0.985459</td>\n",
       "      <td>0.330458</td>\n",
       "      <td>05:59</td>\n",
       "    </tr>\n",
       "    <tr>\n",
       "      <td>12</td>\n",
       "      <td>0.962829</td>\n",
       "      <td>1.002494</td>\n",
       "      <td>0.330318</td>\n",
       "      <td>05:59</td>\n",
       "    </tr>\n",
       "    <tr>\n",
       "      <td>13</td>\n",
       "      <td>0.954947</td>\n",
       "      <td>0.960263</td>\n",
       "      <td>0.334490</td>\n",
       "      <td>05:59</td>\n",
       "    </tr>\n",
       "    <tr>\n",
       "      <td>14</td>\n",
       "      <td>0.957457</td>\n",
       "      <td>0.970971</td>\n",
       "      <td>0.332565</td>\n",
       "      <td>05:59</td>\n",
       "    </tr>\n",
       "    <tr>\n",
       "      <td>15</td>\n",
       "      <td>0.961543</td>\n",
       "      <td>0.975404</td>\n",
       "      <td>0.332009</td>\n",
       "      <td>06:00</td>\n",
       "    </tr>\n",
       "    <tr>\n",
       "      <td>16</td>\n",
       "      <td>0.961024</td>\n",
       "      <td>0.978231</td>\n",
       "      <td>0.334106</td>\n",
       "      <td>06:00</td>\n",
       "    </tr>\n",
       "    <tr>\n",
       "      <td>17</td>\n",
       "      <td>0.939234</td>\n",
       "      <td>0.969859</td>\n",
       "      <td>0.336903</td>\n",
       "      <td>06:00</td>\n",
       "    </tr>\n",
       "    <tr>\n",
       "      <td>18</td>\n",
       "      <td>0.949538</td>\n",
       "      <td>0.929631</td>\n",
       "      <td>0.335229</td>\n",
       "      <td>06:00</td>\n",
       "    </tr>\n",
       "    <tr>\n",
       "      <td>19</td>\n",
       "      <td>0.961152</td>\n",
       "      <td>0.982996</td>\n",
       "      <td>0.335638</td>\n",
       "      <td>05:59</td>\n",
       "    </tr>\n",
       "    <tr>\n",
       "      <td>20</td>\n",
       "      <td>0.955044</td>\n",
       "      <td>0.938994</td>\n",
       "      <td>0.336017</td>\n",
       "      <td>05:59</td>\n",
       "    </tr>\n",
       "    <tr>\n",
       "      <td>21</td>\n",
       "      <td>0.921909</td>\n",
       "      <td>0.953429</td>\n",
       "      <td>0.336810</td>\n",
       "      <td>05:59</td>\n",
       "    </tr>\n",
       "    <tr>\n",
       "      <td>22</td>\n",
       "      <td>0.951070</td>\n",
       "      <td>0.944656</td>\n",
       "      <td>0.337925</td>\n",
       "      <td>05:59</td>\n",
       "    </tr>\n",
       "    <tr>\n",
       "      <td>23</td>\n",
       "      <td>0.951528</td>\n",
       "      <td>0.983658</td>\n",
       "      <td>0.336413</td>\n",
       "      <td>06:00</td>\n",
       "    </tr>\n",
       "    <tr>\n",
       "      <td>24</td>\n",
       "      <td>0.951387</td>\n",
       "      <td>0.971719</td>\n",
       "      <td>0.336781</td>\n",
       "      <td>06:00</td>\n",
       "    </tr>\n",
       "    <tr>\n",
       "      <td>25</td>\n",
       "      <td>0.928372</td>\n",
       "      <td>0.982321</td>\n",
       "      <td>0.338910</td>\n",
       "      <td>06:00</td>\n",
       "    </tr>\n",
       "    <tr>\n",
       "      <td>26</td>\n",
       "      <td>0.950756</td>\n",
       "      <td>0.960050</td>\n",
       "      <td>0.339907</td>\n",
       "      <td>06:00</td>\n",
       "    </tr>\n",
       "    <tr>\n",
       "      <td>27</td>\n",
       "      <td>0.941116</td>\n",
       "      <td>0.973204</td>\n",
       "      <td>0.337060</td>\n",
       "      <td>06:00</td>\n",
       "    </tr>\n",
       "    <tr>\n",
       "      <td>28</td>\n",
       "      <td>0.942022</td>\n",
       "      <td>0.990522</td>\n",
       "      <td>0.336941</td>\n",
       "      <td>06:00</td>\n",
       "    </tr>\n",
       "    <tr>\n",
       "      <td>29</td>\n",
       "      <td>0.944218</td>\n",
       "      <td>0.965098</td>\n",
       "      <td>0.338043</td>\n",
       "      <td>06:00</td>\n",
       "    </tr>\n",
       "    <tr>\n",
       "      <td>30</td>\n",
       "      <td>0.948348</td>\n",
       "      <td>0.976067</td>\n",
       "      <td>0.337013</td>\n",
       "      <td>06:00</td>\n",
       "    </tr>\n",
       "    <tr>\n",
       "      <td>31</td>\n",
       "      <td>0.944665</td>\n",
       "      <td>0.960566</td>\n",
       "      <td>0.339169</td>\n",
       "      <td>05:59</td>\n",
       "    </tr>\n",
       "    <tr>\n",
       "      <td>32</td>\n",
       "      <td>0.945692</td>\n",
       "      <td>0.965522</td>\n",
       "      <td>0.337006</td>\n",
       "      <td>05:59</td>\n",
       "    </tr>\n",
       "    <tr>\n",
       "      <td>33</td>\n",
       "      <td>0.934000</td>\n",
       "      <td>0.982469</td>\n",
       "      <td>0.339684</td>\n",
       "      <td>06:00</td>\n",
       "    </tr>\n",
       "    <tr>\n",
       "      <td>34</td>\n",
       "      <td>0.951005</td>\n",
       "      <td>0.947749</td>\n",
       "      <td>0.340528</td>\n",
       "      <td>06:00</td>\n",
       "    </tr>\n",
       "    <tr>\n",
       "      <td>35</td>\n",
       "      <td>0.941331</td>\n",
       "      <td>0.967784</td>\n",
       "      <td>0.340258</td>\n",
       "      <td>06:00</td>\n",
       "    </tr>\n",
       "    <tr>\n",
       "      <td>36</td>\n",
       "      <td>0.950854</td>\n",
       "      <td>0.980040</td>\n",
       "      <td>0.340135</td>\n",
       "      <td>06:00</td>\n",
       "    </tr>\n",
       "    <tr>\n",
       "      <td>37</td>\n",
       "      <td>0.949361</td>\n",
       "      <td>0.962883</td>\n",
       "      <td>0.337397</td>\n",
       "      <td>06:00</td>\n",
       "    </tr>\n",
       "    <tr>\n",
       "      <td>38</td>\n",
       "      <td>0.946266</td>\n",
       "      <td>0.972659</td>\n",
       "      <td>0.338803</td>\n",
       "      <td>06:00</td>\n",
       "    </tr>\n",
       "    <tr>\n",
       "      <td>39</td>\n",
       "      <td>0.942236</td>\n",
       "      <td>0.965448</td>\n",
       "      <td>0.340685</td>\n",
       "      <td>06:00</td>\n",
       "    </tr>\n",
       "    <tr>\n",
       "      <td>40</td>\n",
       "      <td>0.949790</td>\n",
       "      <td>0.978482</td>\n",
       "      <td>0.339157</td>\n",
       "      <td>06:00</td>\n",
       "    </tr>\n",
       "    <tr>\n",
       "      <td>41</td>\n",
       "      <td>0.928534</td>\n",
       "      <td>0.967206</td>\n",
       "      <td>0.338896</td>\n",
       "      <td>06:00</td>\n",
       "    </tr>\n",
       "    <tr>\n",
       "      <td>42</td>\n",
       "      <td>0.953086</td>\n",
       "      <td>0.972631</td>\n",
       "      <td>0.340226</td>\n",
       "      <td>05:59</td>\n",
       "    </tr>\n",
       "    <tr>\n",
       "      <td>43</td>\n",
       "      <td>0.941202</td>\n",
       "      <td>0.963808</td>\n",
       "      <td>0.340537</td>\n",
       "      <td>05:59</td>\n",
       "    </tr>\n",
       "    <tr>\n",
       "      <td>44</td>\n",
       "      <td>0.939547</td>\n",
       "      <td>0.945033</td>\n",
       "      <td>0.341608</td>\n",
       "      <td>06:00</td>\n",
       "    </tr>\n",
       "    <tr>\n",
       "      <td>45</td>\n",
       "      <td>0.964289</td>\n",
       "      <td>0.978551</td>\n",
       "      <td>0.339673</td>\n",
       "      <td>06:00</td>\n",
       "    </tr>\n",
       "    <tr>\n",
       "      <td>46</td>\n",
       "      <td>0.972503</td>\n",
       "      <td>0.966294</td>\n",
       "      <td>0.341623</td>\n",
       "      <td>06:00</td>\n",
       "    </tr>\n",
       "    <tr>\n",
       "      <td>47</td>\n",
       "      <td>0.938797</td>\n",
       "      <td>0.965236</td>\n",
       "      <td>0.339591</td>\n",
       "      <td>06:00</td>\n",
       "    </tr>\n",
       "    <tr>\n",
       "      <td>48</td>\n",
       "      <td>0.937741</td>\n",
       "      <td>0.966673</td>\n",
       "      <td>0.342204</td>\n",
       "      <td>05:59</td>\n",
       "    </tr>\n",
       "    <tr>\n",
       "      <td>49</td>\n",
       "      <td>0.966616</td>\n",
       "      <td>0.974599</td>\n",
       "      <td>0.341181</td>\n",
       "      <td>06:07</td>\n",
       "    </tr>\n",
       "  </tbody>\n",
       "</table>"
      ],
      "text/plain": [
       "<IPython.core.display.HTML object>"
      ]
     },
     "metadata": {},
     "output_type": "display_data"
    },
    {
     "name": "stdout",
     "output_type": "stream",
     "text": [
      "Better model found at epoch 0 with mIOU value: 0.2970777580907724.\n",
      "Better model found at epoch 1 with mIOU value: 0.30275627480773604.\n",
      "Better model found at epoch 2 with mIOU value: 0.3071008773487382.\n",
      "Better model found at epoch 3 with mIOU value: 0.311623554582974.\n",
      "Better model found at epoch 4 with mIOU value: 0.312811778315522.\n",
      "Better model found at epoch 5 with mIOU value: 0.32146691192833626.\n",
      "Better model found at epoch 6 with mIOU value: 0.32196201334917124.\n",
      "Better model found at epoch 7 with mIOU value: 0.32604187787558375.\n",
      "Better model found at epoch 9 with mIOU value: 0.32662507003170005.\n",
      "Better model found at epoch 10 with mIOU value: 0.3298108449453225.\n",
      "Better model found at epoch 11 with mIOU value: 0.3304579811010217.\n",
      "Better model found at epoch 13 with mIOU value: 0.3344901571825556.\n",
      "Better model found at epoch 17 with mIOU value: 0.33690291149381896.\n",
      "Better model found at epoch 22 with mIOU value: 0.3379249001527542.\n",
      "Better model found at epoch 25 with mIOU value: 0.3389103424786482.\n",
      "Better model found at epoch 26 with mIOU value: 0.3399073117904507.\n",
      "Better model found at epoch 34 with mIOU value: 0.34052789548135975.\n",
      "Better model found at epoch 39 with mIOU value: 0.3406850690594333.\n",
      "Better model found at epoch 44 with mIOU value: 0.34160797959342903.\n",
      "Better model found at epoch 46 with mIOU value: 0.34162330278024405.\n",
      "Better model found at epoch 48 with mIOU value: 0.34220401362161823.\n"
     ]
    }
   ],
   "source": [
    "learn.fit_one_cycle(50, 1e-4,cbs=[CSVLogger(fname='resunetb.csv',append=True),SaveModelCallback(monitor='mIOU',fname='resunetb')])"
   ]
  },
  {
   "cell_type": "code",
   "execution_count": null,
   "metadata": {},
   "outputs": [],
   "source": [
    "def IOU( pred,label, num_classes=10):\n",
    "    pred = F.softmax(pred, dim=1)              \n",
    "    pred = torch.argmax(pred, dim=1).squeeze(1)\n",
    "    iou_list = list()\n",
    "    present_iou_list = list()\n",
    "    pred = pred.view(-1)\n",
    "    label = label.view(-1)\n",
    "    # Note: Following for loop goes from 0 to (num_classes-1)\n",
    "    # and ignore_index is num_classes, thus ignore_index is\n",
    "    # not considered in computation of IoU.\n",
    "    for sem_class in range(num_classes):\n",
    "        if sem_class!=30:\n",
    "            pred_inds = (pred == sem_class)\n",
    "            target_inds = (label == sem_class)\n",
    "            if target_inds.long().sum().item() == 0:\n",
    "                iou_now = float('nan')\n",
    "            else: \n",
    "                intersection_now = (pred_inds[target_inds]).long().sum().item()\n",
    "                union_now = pred_inds.long().sum().item() + target_inds.long().sum().item() - intersection_now\n",
    "                iou_now = float(intersection_now) / float(union_now)\n",
    "                present_iou_list.append(iou_now)\n",
    "            iou_list.append(iou_now)\n",
    "    return present_iou_list,np.mean(present_iou_list)"
   ]
  },
  {
   "cell_type": "code",
   "execution_count": null,
   "metadata": {},
   "outputs": [
    {
     "data": {
      "text/plain": [
       "<fastai.learner.Learner at 0x7fc2103bff10>"
      ]
     },
     "execution_count": null,
     "metadata": {},
     "output_type": "execute_result"
    }
   ],
   "source": [
    "learn.load('resunet')"
   ]
  },
  {
   "cell_type": "code",
   "execution_count": null,
   "metadata": {},
   "outputs": [],
   "source": [
    "imgs=get_files('/home/staff/xin/Downloads/tianchi/test/')"
   ]
  },
  {
   "cell_type": "code",
   "execution_count": null,
   "metadata": {},
   "outputs": [],
   "source": [
    "learn.model.eval()"
   ]
  },
  {
   "cell_type": "code",
   "execution_count": null,
   "metadata": {},
   "outputs": [],
   "source": [
    "import skimage.io as skio"
   ]
  },
  {
   "cell_type": "code",
   "execution_count": null,
   "metadata": {},
   "outputs": [],
   "source": [
    "for img in imgs:\n",
    "    temp=RsImage.create(img)\n",
    "    temp=val_pipe(image=temp.numpy())['image']\n",
    "    with torch.no_grad():\n",
    "        result=learn.model(temp.unsqueeze(0).cuda())\n",
    "    result=F.avg_pool2d(result,2)\n",
    "    result=result.argmax(axis=1)\n",
    "    result=result[0]+1\n",
    "    result=result.cpu().numpy().astype('uint8')\n",
    "    newname='/home/staff/xin/Downloads/tianchi/resultV0/'+img.name.replace('tif','png')\n",
    "    skio.imsave(newname,result)"
   ]
  },
  {
   "cell_type": "code",
   "execution_count": null,
   "metadata": {},
   "outputs": [],
   "source": [
    "xx=skio.imread('/home/staff/xin/Downloads/tianchi/train/010000.png')"
   ]
  },
  {
   "cell_type": "code",
   "execution_count": null,
   "metadata": {},
   "outputs": [],
   "source": [
    "import geopandas as gpd"
   ]
  },
  {
   "cell_type": "code",
   "execution_count": null,
   "metadata": {},
   "outputs": [],
   "source": [
    "xx=gpd.read_file('/home/staff/xin/stationbasins.geojson')"
   ]
  },
  {
   "cell_type": "code",
   "execution_count": null,
   "metadata": {},
   "outputs": [],
   "source": [
    "xx.to_file('/home/staff/xin/tan/chun')"
   ]
  },
  {
   "cell_type": "code",
   "execution_count": null,
   "metadata": {},
   "outputs": [],
   "source": []
  }
 ],
 "metadata": {
  "kernelspec": {
   "display_name": "Python [conda env:fastai]",
   "language": "python",
   "name": "conda-env-fastai-py"
  }
 },
 "nbformat": 4,
 "nbformat_minor": 4
}
