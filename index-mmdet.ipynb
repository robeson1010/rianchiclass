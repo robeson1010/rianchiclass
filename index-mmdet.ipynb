{
 "cells": [
  {
   "cell_type": "code",
   "execution_count": null,
   "metadata": {},
   "outputs": [],
   "source": [
    "%reload_ext autoreload\n",
    "%autoreload 2\n",
    "%matplotlib inline"
   ]
  },
  {
   "cell_type": "code",
   "execution_count": null,
   "metadata": {},
   "outputs": [],
   "source": [
    "#hide\n",
    "from RS.core import *\n",
    "from RS.model import *\n",
    "import lovasz_loss as Lov"
   ]
  },
  {
   "cell_type": "markdown",
   "metadata": {},
   "source": [
    "# Project name here\n",
    "\n",
    "> Summary description here."
   ]
  },
  {
   "cell_type": "markdown",
   "metadata": {},
   "source": [
    "This file will become your README and also the index of your documentation."
   ]
  },
  {
   "cell_type": "markdown",
   "metadata": {},
   "source": [
    "## Install"
   ]
  },
  {
   "cell_type": "markdown",
   "metadata": {},
   "source": [
    "`pip install your_project_name`"
   ]
  },
  {
   "cell_type": "markdown",
   "metadata": {},
   "source": [
    "## How to use"
   ]
  },
  {
   "cell_type": "markdown",
   "metadata": {},
   "source": [
    "Fill me in please! Don't forget code examples:"
   ]
  },
  {
   "cell_type": "code",
   "execution_count": null,
   "metadata": {},
   "outputs": [],
   "source": [
    "from fastai.vision.all import *"
   ]
  },
  {
   "cell_type": "code",
   "execution_count": null,
   "metadata": {},
   "outputs": [],
   "source": [
    "# torch.cuda.set_device(1)"
   ]
  },
  {
   "cell_type": "code",
   "execution_count": null,
   "metadata": {},
   "outputs": [],
   "source": [
    "# df=pd.read_csv('./train.csv')\n",
    "# imgs=get_files('/home/staff/xin/Downloads/tianchi/train/',extensions='.tif')\n",
    "# df=pd.DataFrame({'path':imgs})\n",
    "\n",
    "df=pd.read_csv('same.csv')"
   ]
  },
  {
   "cell_type": "code",
   "execution_count": null,
   "metadata": {},
   "outputs": [
    {
     "data": {
      "text/html": [
       "<div>\n",
       "<style scoped>\n",
       "    .dataframe tbody tr th:only-of-type {\n",
       "        vertical-align: middle;\n",
       "    }\n",
       "\n",
       "    .dataframe tbody tr th {\n",
       "        vertical-align: top;\n",
       "    }\n",
       "\n",
       "    .dataframe thead th {\n",
       "        text-align: right;\n",
       "    }\n",
       "</style>\n",
       "<table border=\"1\" class=\"dataframe\">\n",
       "  <thead>\n",
       "    <tr style=\"text-align: right;\">\n",
       "      <th></th>\n",
       "      <th>path1</th>\n",
       "      <th>path2</th>\n",
       "    </tr>\n",
       "  </thead>\n",
       "  <tbody>\n",
       "    <tr>\n",
       "      <th>0</th>\n",
       "      <td>/home/staff/xin/Downloads/tianchi/test/002664.tif</td>\n",
       "      <td>/home/staff/xin/Downloads/tianchi/train/015723.tif</td>\n",
       "    </tr>\n",
       "    <tr>\n",
       "      <th>1</th>\n",
       "      <td>/home/staff/xin/Downloads/tianchi/test/000901.tif</td>\n",
       "      <td>/home/staff/xin/Downloads/tianchi/train/011989.tif</td>\n",
       "    </tr>\n",
       "    <tr>\n",
       "      <th>2</th>\n",
       "      <td>/home/staff/xin/Downloads/tianchi/test/002469.tif</td>\n",
       "      <td>/home/staff/xin/Downloads/tianchi/train/014949.tif</td>\n",
       "    </tr>\n",
       "    <tr>\n",
       "      <th>3</th>\n",
       "      <td>/home/staff/xin/Downloads/tianchi/test/000774.tif</td>\n",
       "      <td>/home/staff/xin/Downloads/tianchi/train/014414.tif</td>\n",
       "    </tr>\n",
       "    <tr>\n",
       "      <th>4</th>\n",
       "      <td>/home/staff/xin/Downloads/tianchi/test/002890.tif</td>\n",
       "      <td>/home/staff/xin/Downloads/tianchi/train/011431.tif</td>\n",
       "    </tr>\n",
       "  </tbody>\n",
       "</table>\n",
       "</div>"
      ],
      "text/plain": [
       "                                               path1  \\\n",
       "0  /home/staff/xin/Downloads/tianchi/test/002664.tif   \n",
       "1  /home/staff/xin/Downloads/tianchi/test/000901.tif   \n",
       "2  /home/staff/xin/Downloads/tianchi/test/002469.tif   \n",
       "3  /home/staff/xin/Downloads/tianchi/test/000774.tif   \n",
       "4  /home/staff/xin/Downloads/tianchi/test/002890.tif   \n",
       "\n",
       "                                                path2  \n",
       "0  /home/staff/xin/Downloads/tianchi/train/015723.tif  \n",
       "1  /home/staff/xin/Downloads/tianchi/train/011989.tif  \n",
       "2  /home/staff/xin/Downloads/tianchi/train/014949.tif  \n",
       "3  /home/staff/xin/Downloads/tianchi/train/014414.tif  \n",
       "4  /home/staff/xin/Downloads/tianchi/train/011431.tif  "
      ]
     },
     "execution_count": null,
     "metadata": {},
     "output_type": "execute_result"
    }
   ],
   "source": [
    "df.head()"
   ]
  },
  {
   "cell_type": "code",
   "execution_count": null,
   "metadata": {},
   "outputs": [],
   "source": [
    "df=df.drop('path1',1)"
   ]
  },
  {
   "cell_type": "code",
   "execution_count": null,
   "metadata": {},
   "outputs": [],
   "source": [
    "df.columns = ['path']"
   ]
  },
  {
   "cell_type": "code",
   "execution_count": null,
   "metadata": {},
   "outputs": [],
   "source": [
    "df['valid']=0"
   ]
  },
  {
   "cell_type": "code",
   "execution_count": null,
   "metadata": {},
   "outputs": [],
   "source": [
    "df2=df.copy()"
   ]
  },
  {
   "cell_type": "code",
   "execution_count": null,
   "metadata": {},
   "outputs": [],
   "source": [
    "df2['valid']=1"
   ]
  },
  {
   "cell_type": "code",
   "execution_count": null,
   "metadata": {},
   "outputs": [],
   "source": [
    "df=df.append(df2)"
   ]
  },
  {
   "cell_type": "code",
   "execution_count": null,
   "metadata": {},
   "outputs": [],
   "source": [
    "df3=pd.DataFrame({'path':get_files('/home/staff/xin/Downloads/tianchi/teacher/',extensions='.tif')})"
   ]
  },
  {
   "cell_type": "code",
   "execution_count": null,
   "metadata": {},
   "outputs": [],
   "source": [
    "df3['valid']=0"
   ]
  },
  {
   "cell_type": "code",
   "execution_count": null,
   "metadata": {},
   "outputs": [],
   "source": [
    "df=df.append(df3)"
   ]
  },
  {
   "cell_type": "code",
   "execution_count": null,
   "metadata": {},
   "outputs": [],
   "source": [
    "db = DataBlock(blocks=(TransformBlock(type_tfms=partial(RsImage.create)),\n",
    "                       TransformBlock(type_tfms=partial(RsMask.create)),\n",
    "                      ),\n",
    "               get_x=ColReader('path'),\n",
    "               get_y=ColReader('path'),\n",
    "               splitter=ColSplitter('valid'),\n",
    "               item_tfms=[aug,aug2]\n",
    "              )\n",
    "# db = DataBlock(blocks=(TransformBlock(type_tfms=partial(RsImage.create)),\n",
    "#                        TransformBlock(type_tfms=partial(RsMask.create)),\n",
    "#                       ),\n",
    "#                get_x=ColReader('path'),\n",
    "#                get_y=ColReader('path'),\n",
    "#                splitter=RandomSplitter(valid_pct=0.2,seed=10),\n",
    "#                item_tfms=[aug,aug2]\n",
    "#               )\n",
    "\n",
    "# db.summary(source=df)"
   ]
  },
  {
   "cell_type": "code",
   "execution_count": null,
   "metadata": {},
   "outputs": [],
   "source": [
    "\n",
    "dls = db.dataloaders(source=df,bs=32, num_workers=8)\n"
   ]
  },
  {
   "cell_type": "code",
   "execution_count": null,
   "metadata": {},
   "outputs": [],
   "source": [
    "from mmseg.models import build_segmentor\n",
    "from mmcv.utils import Config"
   ]
  },
  {
   "cell_type": "code",
   "execution_count": null,
   "metadata": {},
   "outputs": [],
   "source": [
    "class HRNET(nn.Module):\n",
    "    def __init__(self,cfgfile):\n",
    "        super().__init__()\n",
    "        cfg = Config.fromfile(cfgfile)\n",
    "        temp=build_segmentor(cfg.model)\n",
    "        self.backbone =temp.backbone\n",
    "        self.decode_head = temp.decode_head\n",
    "    def forward(self, x):\n",
    "#         x=F.upsample_bilinear(x,scale_factor=2)\n",
    "        x = self.backbone(x)\n",
    "        x = self.decode_head(x)\n",
    "        return x"
   ]
  },
  {
   "cell_type": "code",
   "execution_count": null,
   "metadata": {},
   "outputs": [],
   "source": [
    "# loss=OhemCrossEntropy()"
   ]
  },
  {
   "cell_type": "code",
   "execution_count": null,
   "metadata": {},
   "outputs": [],
   "source": [
    "def mIOU( pred,label, num_classes=10,scale=4):\n",
    "    pred =F.upsample_bilinear(pred,scale_factor=scale)  \n",
    "    pred = F.softmax(pred, dim=1)              \n",
    "    pred = torch.argmax(pred, dim=1).squeeze(1)\n",
    "    \n",
    "    iou_list = list()\n",
    "    present_iou_list = list()\n",
    "    pred = pred.view(-1)\n",
    "    label = label.view(-1)\n",
    "    # Note: Following for loop goes from 0 to (num_classes-1)\n",
    "    # and ignore_index is num_classes, thus ignore_index is\n",
    "    # not considered in computation of IoU.\n",
    "    for sem_class in range(num_classes):\n",
    "        if sem_class!=30:\n",
    "            pred_inds = (pred == sem_class)\n",
    "            target_inds = (label == sem_class)\n",
    "            if target_inds.long().sum().item() == 0:\n",
    "                iou_now = float('nan')\n",
    "            else: \n",
    "                intersection_now = (pred_inds[target_inds]).long().sum().item()\n",
    "                union_now = pred_inds.long().sum().item() + target_inds.long().sum().item() - intersection_now\n",
    "                iou_now = float(intersection_now) / float(union_now)\n",
    "                present_iou_list.append(iou_now)\n",
    "            iou_list.append(iou_now)\n",
    "    return np.mean(present_iou_list)"
   ]
  },
  {
   "cell_type": "code",
   "execution_count": null,
   "metadata": {},
   "outputs": [],
   "source": [
    "class newloss(nn.Module):\n",
    "    def __init__(self,):\n",
    "        super().__init__()\n",
    "        self.loss = CrossEntropyLossFlat(axis=1)\n",
    "    def forward(self, input, target):\n",
    "        return self.loss(RsImage(input),RsImage(target.long()))"
   ]
  },
  {
   "cell_type": "code",
   "execution_count": null,
   "metadata": {},
   "outputs": [],
   "source": [
    "class OhemCrossEntropy(nn.Module): \n",
    "    def __init__(self, ignore_label=-1, thres=0.7, \n",
    "        min_kept=100000, weight=None,scale=4): \n",
    "        super(OhemCrossEntropy, self).__init__() \n",
    "        self.thresh = thres\n",
    "        self.min_kept = max(1, min_kept)\n",
    "        self.ignore_label = ignore_label \n",
    "        self.weight=weight\n",
    "        self.criterion = nn.CrossEntropyLoss(weight=weight, \n",
    "                                             ignore_index=ignore_label, \n",
    "                                             reduction='none') \n",
    "        self.scale=scale\n",
    "#         self.love=Lovloss()\n",
    "    \n",
    "    def forward(self, score, target, **kwargs):\n",
    "        target=RsImage(target.long())\n",
    "        score =F.upsample_bilinear(score,scale_factor=self.scale)\n",
    "        pred = F.softmax(score, dim=1)\n",
    "        pixel_losses = self.criterion(score, target).contiguous().view(-1)\n",
    "        mask = target.contiguous().view(-1) != self.ignore_label         \n",
    "        \n",
    "        tmp_target = target.clone() \n",
    "        tmp_target[tmp_target == self.ignore_label] = 0 \n",
    "        pred = pred.gather(1, tmp_target.unsqueeze(1)) \n",
    "        pred, ind = pred.contiguous().view(-1,)[mask].contiguous().sort()\n",
    "        min_value = pred[min(self.min_kept, pred.numel() - 1)] \n",
    "        threshold = max(min_value, self.thresh) \n",
    "        \n",
    "        pixel_losses = pixel_losses[mask][ind]\n",
    "        pixel_losses = pixel_losses[pred < threshold] \n",
    "        iouloss=Lov.lovasz_softmax(score,target,class_weight=None)\n",
    "        return pixel_losses.mean()+iouloss/10"
   ]
  },
  {
   "cell_type": "code",
   "execution_count": null,
   "metadata": {},
   "outputs": [],
   "source": [
    "class Lovloss(nn.Module): \n",
    "    def __init__(self, ignore_label=-1, thres=0.7, \n",
    "        min_kept=100000, weight=None): \n",
    "        super(Lovloss, self).__init__() \n",
    "        self.weight=weight\n",
    "    \n",
    "    def forward(self, score, target, **kwargs):\n",
    "        target=RsImage(target.long())\n",
    "        score =F.upsample_bilinear(score,scale_factor=4)\n",
    "        pred = F.softmax(score, dim=1)\n",
    "        return Lov.lovasz_softmax(score,target,class_weight=self.weight)"
   ]
  },
  {
   "cell_type": "code",
   "execution_count": null,
   "metadata": {},
   "outputs": [],
   "source": [
    "weight=torch.FloatTensor([2,1,4,4,2,2,2,4,2,4]).cuda()"
   ]
  },
  {
   "cell_type": "code",
   "execution_count": null,
   "metadata": {},
   "outputs": [],
   "source": [
    "loss=OhemCrossEntropy(weight=weight,scale=4)"
   ]
  },
  {
   "cell_type": "code",
   "execution_count": null,
   "metadata": {},
   "outputs": [],
   "source": [
    "loss=Lovloss()"
   ]
  },
  {
   "cell_type": "code",
   "execution_count": null,
   "metadata": {},
   "outputs": [],
   "source": [
    "\n",
    "model=HRNET(cfgfile='./fcn_hr18.py')\n",
    "apply_init(model)"
   ]
  },
  {
   "cell_type": "code",
   "execution_count": null,
   "metadata": {},
   "outputs": [],
   "source": [
    "learn = Learner(dls,model,metrics=mIOU,loss_func=loss).to_fp16()"
   ]
  },
  {
   "cell_type": "code",
   "execution_count": null,
   "metadata": {},
   "outputs": [
    {
     "data": {
      "text/plain": [
       "<fastai.learner.Learner at 0x7fc05448ea30>"
      ]
     },
     "execution_count": null,
     "metadata": {},
     "output_type": "execute_result"
    }
   ],
   "source": [
    "learn.load('hrnetdis')"
   ]
  },
  {
   "cell_type": "code",
   "execution_count": null,
   "metadata": {},
   "outputs": [
    {
     "data": {
      "text/html": [],
      "text/plain": [
       "<IPython.core.display.HTML object>"
      ]
     },
     "metadata": {},
     "output_type": "display_data"
    },
    {
     "data": {
      "text/plain": [
       "SuggestedLRs(lr_min=0.33113112449646, lr_steep=7.585775847473997e-07)"
      ]
     },
     "execution_count": null,
     "metadata": {},
     "output_type": "execute_result"
    },
    {
     "data": {
      "image/png": "[encoded data removed]",
      "text/plain": [
       "<Figure size 432x288 with 1 Axes>"
      ]
     },
     "metadata": {
      "needs_background": "light"
     },
     "output_type": "display_data"
    }
   ],
   "source": [
    "learn.lr_find()"
   ]
  },
  {
   "cell_type": "code",
   "execution_count": null,
   "metadata": {},
   "outputs": [
    {
     "data": {
      "text/html": [
       "\n",
       "    <div>\n",
       "        <style>\n",
       "            /* Turns off some styling */\n",
       "            progress {\n",
       "                /* gets rid of default border in Firefox and Opera. */\n",
       "                border: none;\n",
       "                /* Needs to be in here for Safari polyfill so background images work as expected. */\n",
       "                background-size: auto;\n",
       "            }\n",
       "            .progress-bar-interrupted, .progress-bar-interrupted::-webkit-progress-bar {\n",
       "                background: #F44336;\n",
       "            }\n",
       "        </style>\n",
       "      <progress value='27' class='' max='50' style='width:300px; height:20px; vertical-align: middle;'></progress>\n",
       "      54.00% [27/50 35:24<30:09]\n",
       "    </div>\n",
       "    \n",
       "<table border=\"1\" class=\"dataframe\">\n",
       "  <thead>\n",
       "    <tr style=\"text-align: left;\">\n",
       "      <th>epoch</th>\n",
       "      <th>train_loss</th>\n",
       "      <th>valid_loss</th>\n",
       "      <th>mIOU</th>\n",
       "      <th>time</th>\n",
       "    </tr>\n",
       "  </thead>\n",
       "  <tbody>\n",
       "    <tr>\n",
       "      <td>0</td>\n",
       "      <td>2.838255</td>\n",
       "      <td>2.694573</td>\n",
       "      <td>0.501026</td>\n",
       "      <td>01:18</td>\n",
       "    </tr>\n",
       "    <tr>\n",
       "      <td>1</td>\n",
       "      <td>2.786370</td>\n",
       "      <td>2.624660</td>\n",
       "      <td>0.499610</td>\n",
       "      <td>01:18</td>\n",
       "    </tr>\n",
       "    <tr>\n",
       "      <td>2</td>\n",
       "      <td>2.771975</td>\n",
       "      <td>2.706831</td>\n",
       "      <td>0.502593</td>\n",
       "      <td>01:18</td>\n",
       "    </tr>\n",
       "    <tr>\n",
       "      <td>3</td>\n",
       "      <td>2.736063</td>\n",
       "      <td>2.680830</td>\n",
       "      <td>0.500134</td>\n",
       "      <td>01:18</td>\n",
       "    </tr>\n",
       "    <tr>\n",
       "      <td>4</td>\n",
       "      <td>2.698779</td>\n",
       "      <td>2.569799</td>\n",
       "      <td>0.502402</td>\n",
       "      <td>01:18</td>\n",
       "    </tr>\n",
       "    <tr>\n",
       "      <td>5</td>\n",
       "      <td>2.643351</td>\n",
       "      <td>2.523158</td>\n",
       "      <td>0.500445</td>\n",
       "      <td>01:18</td>\n",
       "    </tr>\n",
       "    <tr>\n",
       "      <td>6</td>\n",
       "      <td>2.586297</td>\n",
       "      <td>2.506221</td>\n",
       "      <td>0.498768</td>\n",
       "      <td>01:18</td>\n",
       "    </tr>\n",
       "    <tr>\n",
       "      <td>7</td>\n",
       "      <td>2.528554</td>\n",
       "      <td>2.489947</td>\n",
       "      <td>0.499351</td>\n",
       "      <td>01:18</td>\n",
       "    </tr>\n",
       "    <tr>\n",
       "      <td>8</td>\n",
       "      <td>2.447443</td>\n",
       "      <td>2.418167</td>\n",
       "      <td>0.495543</td>\n",
       "      <td>01:18</td>\n",
       "    </tr>\n",
       "    <tr>\n",
       "      <td>9</td>\n",
       "      <td>2.373564</td>\n",
       "      <td>2.308167</td>\n",
       "      <td>0.494401</td>\n",
       "      <td>01:18</td>\n",
       "    </tr>\n",
       "    <tr>\n",
       "      <td>10</td>\n",
       "      <td>2.329060</td>\n",
       "      <td>2.288235</td>\n",
       "      <td>0.495406</td>\n",
       "      <td>01:18</td>\n",
       "    </tr>\n",
       "    <tr>\n",
       "      <td>11</td>\n",
       "      <td>2.254319</td>\n",
       "      <td>2.218538</td>\n",
       "      <td>0.485497</td>\n",
       "      <td>01:18</td>\n",
       "    </tr>\n",
       "    <tr>\n",
       "      <td>12</td>\n",
       "      <td>2.219220</td>\n",
       "      <td>2.177461</td>\n",
       "      <td>0.490552</td>\n",
       "      <td>01:18</td>\n",
       "    </tr>\n",
       "    <tr>\n",
       "      <td>13</td>\n",
       "      <td>2.177538</td>\n",
       "      <td>2.142556</td>\n",
       "      <td>0.487120</td>\n",
       "      <td>01:18</td>\n",
       "    </tr>\n",
       "    <tr>\n",
       "      <td>14</td>\n",
       "      <td>2.088173</td>\n",
       "      <td>2.092540</td>\n",
       "      <td>0.473818</td>\n",
       "      <td>01:18</td>\n",
       "    </tr>\n",
       "    <tr>\n",
       "      <td>15</td>\n",
       "      <td>2.063867</td>\n",
       "      <td>2.053664</td>\n",
       "      <td>0.478799</td>\n",
       "      <td>01:18</td>\n",
       "    </tr>\n",
       "    <tr>\n",
       "      <td>16</td>\n",
       "      <td>2.039757</td>\n",
       "      <td>2.041909</td>\n",
       "      <td>0.480479</td>\n",
       "      <td>01:18</td>\n",
       "    </tr>\n",
       "    <tr>\n",
       "      <td>17</td>\n",
       "      <td>1.979869</td>\n",
       "      <td>2.013793</td>\n",
       "      <td>0.479010</td>\n",
       "      <td>01:18</td>\n",
       "    </tr>\n",
       "    <tr>\n",
       "      <td>18</td>\n",
       "      <td>1.954836</td>\n",
       "      <td>1.958060</td>\n",
       "      <td>0.480414</td>\n",
       "      <td>01:18</td>\n",
       "    </tr>\n",
       "    <tr>\n",
       "      <td>19</td>\n",
       "      <td>1.919760</td>\n",
       "      <td>1.930323</td>\n",
       "      <td>0.472694</td>\n",
       "      <td>01:18</td>\n",
       "    </tr>\n",
       "    <tr>\n",
       "      <td>20</td>\n",
       "      <td>1.909402</td>\n",
       "      <td>1.961307</td>\n",
       "      <td>0.480786</td>\n",
       "      <td>01:19</td>\n",
       "    </tr>\n",
       "    <tr>\n",
       "      <td>21</td>\n",
       "      <td>1.871954</td>\n",
       "      <td>1.911978</td>\n",
       "      <td>0.477112</td>\n",
       "      <td>01:18</td>\n",
       "    </tr>\n",
       "    <tr>\n",
       "      <td>22</td>\n",
       "      <td>1.882766</td>\n",
       "      <td>1.913081</td>\n",
       "      <td>0.478801</td>\n",
       "      <td>01:18</td>\n",
       "    </tr>\n",
       "    <tr>\n",
       "      <td>23</td>\n",
       "      <td>1.866180</td>\n",
       "      <td>1.909667</td>\n",
       "      <td>0.481514</td>\n",
       "      <td>01:18</td>\n",
       "    </tr>\n",
       "    <tr>\n",
       "      <td>24</td>\n",
       "      <td>1.855185</td>\n",
       "      <td>1.908313</td>\n",
       "      <td>0.476693</td>\n",
       "      <td>01:18</td>\n",
       "    </tr>\n",
       "    <tr>\n",
       "      <td>25</td>\n",
       "      <td>1.822023</td>\n",
       "      <td>1.852168</td>\n",
       "      <td>0.477187</td>\n",
       "      <td>01:18</td>\n",
       "    </tr>\n",
       "    <tr>\n",
       "      <td>26</td>\n",
       "      <td>1.803820</td>\n",
       "      <td>1.854407</td>\n",
       "      <td>0.481654</td>\n",
       "      <td>01:18</td>\n",
       "    </tr>\n",
       "  </tbody>\n",
       "</table><p>\n",
       "\n",
       "    <div>\n",
       "        <style>\n",
       "            /* Turns off some styling */\n",
       "            progress {\n",
       "                /* gets rid of default border in Firefox and Opera. */\n",
       "                border: none;\n",
       "                /* Needs to be in here for Safari polyfill so background images work as expected. */\n",
       "                background-size: auto;\n",
       "            }\n",
       "            .progress-bar-interrupted, .progress-bar-interrupted::-webkit-progress-bar {\n",
       "                background: #F44336;\n",
       "            }\n",
       "        </style>\n",
       "      <progress value='105' class='' max='137' style='width:300px; height:20px; vertical-align: middle;'></progress>\n",
       "      76.64% [105/137 00:51<00:15 1.8173]\n",
       "    </div>\n",
       "    "
      ],
      "text/plain": [
       "<IPython.core.display.HTML object>"
      ]
     },
     "metadata": {},
     "output_type": "display_data"
    },
    {
     "name": "stdout",
     "output_type": "stream",
     "text": [
      "Better model found at epoch 0 with mIOU value: 0.5010259897400318.\n",
      "Better model found at epoch 2 with mIOU value: 0.5025931797682388.\n"
     ]
    }
   ],
   "source": [
    "learn.fit_one_cycle(50, 1e-4,cbs=[CSVLogger(fname='hrnetdisiou.csv',append=False),SaveModelCallback(monitor='mIOU',fname='hrnetdisiou')])"
   ]
  },
  {
   "cell_type": "code",
   "execution_count": null,
   "metadata": {},
   "outputs": [],
   "source": [
    "learn = Learner(dls,model,metrics=mIOU,loss_func=Lovloss()).to_fp16()"
   ]
  },
  {
   "cell_type": "code",
   "execution_count": null,
   "metadata": {},
   "outputs": [],
   "source": [
    "learn.load('hrnetdis')"
   ]
  },
  {
   "cell_type": "code",
   "execution_count": null,
   "metadata": {},
   "outputs": [],
   "source": [
    "learn.lr_find()"
   ]
  },
  {
   "cell_type": "code",
   "execution_count": null,
   "metadata": {},
   "outputs": [],
   "source": []
  },
  {
   "cell_type": "code",
   "execution_count": null,
   "metadata": {},
   "outputs": [],
   "source": []
  },
  {
   "cell_type": "code",
   "execution_count": null,
   "metadata": {},
   "outputs": [],
   "source": []
  },
  {
   "cell_type": "code",
   "execution_count": null,
   "metadata": {},
   "outputs": [],
   "source": []
  },
  {
   "cell_type": "code",
   "execution_count": null,
   "metadata": {},
   "outputs": [
    {
     "data": {
      "text/plain": [
       "<fastai.learner.Learner at 0x7fc2103bff10>"
      ]
     },
     "execution_count": null,
     "metadata": {},
     "output_type": "execute_result"
    }
   ],
   "source": [
    "learn.load('resunet')"
   ]
  },
  {
   "cell_type": "code",
   "execution_count": null,
   "metadata": {},
   "outputs": [],
   "source": [
    "stats=torch.load('./models/hrnet.pth')"
   ]
  },
  {
   "cell_type": "code",
   "execution_count": null,
   "metadata": {},
   "outputs": [
    {
     "data": {
      "text/plain": [
       "<All keys matched successfully>"
      ]
     },
     "execution_count": null,
     "metadata": {},
     "output_type": "execute_result"
    }
   ],
   "source": [
    "model.load_state_dict(stats)"
   ]
  },
  {
   "cell_type": "code",
   "execution_count": null,
   "metadata": {},
   "outputs": [],
   "source": [
    "imgs=get_files('/home/staff/xin/Downloads/tianchi/test/')"
   ]
  },
  {
   "cell_type": "code",
   "execution_count": null,
   "metadata": {},
   "outputs": [],
   "source": [
    "model=model.cuda().eval()"
   ]
  },
  {
   "cell_type": "code",
   "execution_count": null,
   "metadata": {},
   "outputs": [],
   "source": [
    "import skimage.io as skio\n",
    "import tqdm"
   ]
  },
  {
   "cell_type": "code",
   "execution_count": null,
   "metadata": {},
   "outputs": [
    {
     "name": "stderr",
     "output_type": "stream",
     "text": [
      "100%|██████████| 3000/3000 [02:44<00:00, 18.25it/s]\n"
     ]
    }
   ],
   "source": [
    "for img in tqdm.tqdm(imgs):\n",
    "    temp=RsImage.create(img)\n",
    "    temp=val_pipe(image=temp.numpy())['image']\n",
    "    with torch.no_grad():\n",
    "        result=model(temp.unsqueeze(0).cuda())\n",
    "    result =F.upsample_nearest(result,scale_factor=4)\n",
    "    result=result.argmax(axis=1)\n",
    "    result=result[0]+1\n",
    "    result=result.cpu().numpy().astype('uint8')\n",
    "    newname='/home/staff/xin/Downloads/tianchi/resultV0/'+img.name.replace('tif','png')\n",
    "    skio.imsave(newname,result)"
   ]
  },
  {
   "cell_type": "code",
   "execution_count": null,
   "metadata": {},
   "outputs": [
    {
     "name": "stderr",
     "output_type": "stream",
     "text": [
      "100%|██████████| 3000/3000 [01:35<00:00, 31.48it/s]\n"
     ]
    }
   ],
   "source": [
    "means=[]\n",
    "for img in tqdm.tqdm(imgs):\n",
    "    temp=RsImage.create(img)\n",
    "    temp=val_pipe(image=temp.numpy())['image']\n",
    "    with torch.no_grad():\n",
    "        result=model(temp.unsqueeze(0).cuda())\n",
    "    result =F.upsample_bilinear(result,scale_factor=4)\n",
    "    result=F.softmax(result)\n",
    "    mean=result.max(dim=1)[0].mean()\n",
    "    if mean>0.685:\n",
    "        result=result.argmax(axis=1)\n",
    "        result=result[0]+1\n",
    "        result=result.cpu().numpy().astype('uint8')\n",
    "        newname='/home/staff/xin/Downloads/tianchi/teacher/'+img.name.replace('tif','png')\n",
    "        skio.imsave(newname,result)\n",
    "        shutil.copyfile(str(img),str(img).replace('test','teacher'))"
   ]
  },
  {
   "cell_type": "code",
   "execution_count": null,
   "metadata": {},
   "outputs": [],
   "source": [
    "xx=[]\n",
    "for mean in means:\n",
    "    xx.append(mean.cpu().item())"
   ]
  },
  {
   "cell_type": "code",
   "execution_count": null,
   "metadata": {},
   "outputs": [],
   "source": [
    "xx=np.asarray(xx)"
   ]
  },
  {
   "cell_type": "code",
   "execution_count": null,
   "metadata": {},
   "outputs": [
    {
     "data": {
      "text/plain": [
       "1400"
      ]
     },
     "execution_count": null,
     "metadata": {},
     "output_type": "execute_result"
    }
   ],
   "source": [
    "np.count_nonzero(xx>0.685)"
   ]
  },
  {
   "cell_type": "code",
   "execution_count": null,
   "metadata": {},
   "outputs": [
    {
     "data": {
      "text/plain": [
       "tensor(0.6834, device='cuda:0')"
      ]
     },
     "execution_count": null,
     "metadata": {},
     "output_type": "execute_result"
    }
   ],
   "source": []
  },
  {
   "cell_type": "code",
   "execution_count": null,
   "metadata": {},
   "outputs": [],
   "source": [
    "result=result.argmax(axis=1)\n",
    "result=result[0]+1"
   ]
  },
  {
   "cell_type": "code",
   "execution_count": null,
   "metadata": {},
   "outputs": [
    {
     "data": {
      "image/png": "[encoded data removed]",
      "text/plain": [
       "<Figure size 432x288 with 1 Axes>"
      ]
     },
     "metadata": {
      "needs_background": "light"
     },
     "output_type": "display_data"
    }
   ],
   "source": [
    "RsImage.create(img).show()"
   ]
  },
  {
   "cell_type": "code",
   "execution_count": null,
   "metadata": {},
   "outputs": [
    {
     "data": {
      "text/plain": [
       "<matplotlib.image.AxesImage at 0x7f48c99008e0>"
      ]
     },
     "execution_count": null,
     "metadata": {},
     "output_type": "execute_result"
    },
    {
     "data": {
      "image/png": "[encoded data removed]",
      "text/plain": [
       "<Figure size 432x288 with 1 Axes>"
      ]
     },
     "metadata": {
      "needs_background": "light"
     },
     "output_type": "display_data"
    }
   ],
   "source": [
    "plt.imshow(result.cpu())"
   ]
  },
  {
   "cell_type": "code",
   "execution_count": null,
   "metadata": {},
   "outputs": [],
   "source": []
  },
  {
   "cell_type": "code",
   "execution_count": null,
   "metadata": {},
   "outputs": [],
   "source": []
  },
  {
   "cell_type": "code",
   "execution_count": null,
   "metadata": {},
   "outputs": [],
   "source": [
    "xx=skio.imread('/home/staff/xin/Downloads/tianchi/train/010000.png')"
   ]
  },
  {
   "cell_type": "code",
   "execution_count": null,
   "metadata": {},
   "outputs": [],
   "source": [
    "import geopandas as gpd"
   ]
  },
  {
   "cell_type": "code",
   "execution_count": null,
   "metadata": {},
   "outputs": [],
   "source": [
    "xx=gpd.read_file('/home/staff/xin/stationbasins.geojson')"
   ]
  },
  {
   "cell_type": "code",
   "execution_count": null,
   "metadata": {},
   "outputs": [],
   "source": [
    "xx.to_file('/home/staff/xin/tan/chun')"
   ]
  },
  {
   "cell_type": "code",
   "execution_count": null,
   "metadata": {},
   "outputs": [],
   "source": []
  }
 ],
 "metadata": {
  "kernelspec": {
   "display_name": "Python [conda env:fastai]",
   "language": "python",
   "name": "conda-env-fastai-py"
  }
 },
 "nbformat": 4,
 "nbformat_minor": 4
}
